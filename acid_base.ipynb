{
 "cells": [
  {
   "cell_type": "code",
   "execution_count": 1,
   "metadata": {},
   "outputs": [],
   "source": [
    "import random as r"
   ]
  },
  {
   "cell_type": "code",
   "execution_count": 6,
   "metadata": {},
   "outputs": [
    {
     "name": "stdin",
     "output_type": "stream",
     "text": [
      "enter an formula of base CH3OH\n"
     ]
    },
    {
     "name": "stdout",
     "output_type": "stream",
     "text": [
      "correct\n"
     ]
    }
   ],
   "source": [
    "i=[\"acid\",\"base\"]\n",
    "j=r.choice(i)\n",
    "che=input(\"enter an formula of {}\".format(j))\n",
    "if j==\"acid\":\n",
    "    if che[0]==\"H\":\n",
    "        print(\"correct\")\n",
    "    else:\n",
    "        print(\"Wrong\")\n",
    "if j==\"base\":\n",
    "    if \"OH\" in che:\n",
    "        print(\"correct\")\n",
    "    else:\n",
    "        print(\"Wrong\")\n",
    "   \n",
    "\n"
   ]
  },
  {
   "cell_type": "code",
   "execution_count": null,
   "metadata": {},
   "outputs": [],
   "source": [
    "che=input(\"enter an formula of\")\n",
    "if che[0]==\"H\":\n",
    "    print(\"its acid\")\n",
    "elif \"OH\" in che:\n",
    "    print(\"its base\")\n",
    "else:\n",
    "    print(\"its salt\")"
   ]
  },
  {
   "cell_type": "code",
   "execution_count": null,
   "metadata": {},
   "outputs": [],
   "source": []
  }
 ],
 "metadata": {
  "kernelspec": {
   "display_name": "Python 3",
   "language": "python",
   "name": "python3"
  },
  "language_info": {
   "codemirror_mode": {
    "name": "ipython",
    "version": 3
   },
   "file_extension": ".py",
   "mimetype": "text/x-python",
   "name": "python",
   "nbconvert_exporter": "python",
   "pygments_lexer": "ipython3",
   "version": "3.7.4"
  }
 },
 "nbformat": 4,
 "nbformat_minor": 4
}
